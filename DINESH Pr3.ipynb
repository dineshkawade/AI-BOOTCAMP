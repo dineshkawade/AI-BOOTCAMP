{
 "cells": [
  {
   "cell_type": "markdown",
   "id": "9ee57c85-3555-46fe-a38d-429c7f73b522",
   "metadata": {},
   "source": [
    "#### Write code to find number of rows with missing data in the dataset"
   ]
  },
  {
   "cell_type": "code",
   "execution_count": 1,
   "id": "4465ae41-64a1-41b0-8f95-725104d76096",
   "metadata": {},
   "outputs": [],
   "source": [
    "import pandas as pd"
   ]
  },
  {
   "cell_type": "code",
   "execution_count": 2,
   "id": "4eb9e4cd-e80f-4863-8dc9-559dd4e05c4f",
   "metadata": {},
   "outputs": [],
   "source": [
    "std = \"BootcampAI/Student_preference.csv\"\n",
    "df = pd.read_csv(std)"
   ]
  },
  {
   "cell_type": "code",
   "execution_count": 3,
   "id": "1e78b2e7-7283-4092-970e-3314843a8521",
   "metadata": {},
   "outputs": [],
   "source": [
    "missing_rows_count = df.isnull().any(axis=1).sum()"
   ]
  },
  {
   "cell_type": "code",
   "execution_count": 4,
   "id": "be49db06-caae-40e6-97ce-f1393f087d57",
   "metadata": {},
   "outputs": [
    {
     "name": "stdout",
     "output_type": "stream",
     "text": [
      "Number of rows with missing data: 0\n"
     ]
    }
   ],
   "source": [
    "print(f\"Number of rows with missing data: {missing_rows_count}\")"
   ]
  },
  {
   "cell_type": "code",
   "execution_count": null,
   "id": "c631faef-10e9-4d53-b145-62cf03654c4b",
   "metadata": {},
   "outputs": [],
   "source": []
  }
 ],
 "metadata": {
  "kernelspec": {
   "display_name": "Python 3 (ipykernel)",
   "language": "python",
   "name": "python3"
  },
  "language_info": {
   "codemirror_mode": {
    "name": "ipython",
    "version": 3
   },
   "file_extension": ".py",
   "mimetype": "text/x-python",
   "name": "python",
   "nbconvert_exporter": "python",
   "pygments_lexer": "ipython3",
   "version": "3.12.7"
  }
 },
 "nbformat": 4,
 "nbformat_minor": 5
}
