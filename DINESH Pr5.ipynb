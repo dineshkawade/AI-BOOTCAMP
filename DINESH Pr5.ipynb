{
 "cells": [
  {
   "cell_type": "markdown",
   "id": "b067a0bc-f2dc-4e26-9140-24458cf8b472",
   "metadata": {},
   "source": [
    "#### Write code to filter players who have scored more than 500 runs\n"
   ]
  },
  {
   "cell_type": "code",
   "execution_count": 1,
   "id": "3f0179dd-ad9d-4985-ac80-b716c9627dbc",
   "metadata": {},
   "outputs": [],
   "source": [
    "import pandas as pd  "
   ]
  },
  {
   "cell_type": "code",
   "execution_count": 2,
   "id": "dd3d0d01-ba07-470a-82e9-81b877d72122",
   "metadata": {},
   "outputs": [],
   "source": [
    "data= \"ipl_matches_smalldata.csv\"  "
   ]
  },
  {
   "cell_type": "code",
   "execution_count": 3,
   "id": "b04c7f98-0726-4db9-afb6-eb91be84dbd2",
   "metadata": {},
   "outputs": [],
   "source": [
    "df = pd.read_csv(data)  "
   ]
  },
  {
   "cell_type": "code",
   "execution_count": 4,
   "id": "ac8ff3c2-6e04-49ea-aadc-f95d0d8718c5",
   "metadata": {},
   "outputs": [],
   "source": [
    "players_above_500 = df[df['total_runs'] > 500] "
   ]
  },
  {
   "cell_type": "code",
   "execution_count": 5,
   "id": "0afa4acf-8fbf-460a-9ca1-10990c8fd4e5",
   "metadata": {},
   "outputs": [
    {
     "name": "stdout",
     "output_type": "stream",
     "text": [
      "Empty DataFrame\n",
      "Columns: [match_id, inning, batting_team, bowling_team, over, ball, batter, bowler, non_striker, batsman_runs, extra_runs, total_runs, extras_type, is_wicket, player_dismissed, dismissal_kind, fielder]\n",
      "Index: []\n"
     ]
    }
   ],
   "source": [
    "print(players_above_500)"
   ]
  },
  {
   "cell_type": "code",
   "execution_count": null,
   "id": "cbafe68d-bd54-4e8f-8f84-a81a4416f747",
   "metadata": {},
   "outputs": [],
   "source": []
  }
 ],
 "metadata": {
  "kernelspec": {
   "display_name": "Python 3 (ipykernel)",
   "language": "python",
   "name": "python3"
  },
  "language_info": {
   "codemirror_mode": {
    "name": "ipython",
    "version": 3
   },
   "file_extension": ".py",
   "mimetype": "text/x-python",
   "name": "python",
   "nbconvert_exporter": "python",
   "pygments_lexer": "ipython3",
   "version": "3.12.7"
  }
 },
 "nbformat": 4,
 "nbformat_minor": 5
}
