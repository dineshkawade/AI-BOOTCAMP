{
 "cells": [
  {
   "cell_type": "code",
   "execution_count": 5,
   "id": "cc140333-e137-4ff3-8905-79f32d2d5d98",
   "metadata": {},
   "outputs": [
    {
     "name": "stdout",
     "output_type": "stream",
     "text": [
      "My name is Niraj.\n",
      ".jariN si eman yM\n"
     ]
    }
   ],
   "source": [
    "# This Is programmFor to Print String In Reverse Order \n",
    "\n",
    "str = \"My name is Niraj.\"\n",
    "print(str)\n",
    "rev_str = str[::-1]\n",
    "print(rev_str)\n"
   ]
  },
  {
   "cell_type": "code",
   "execution_count": 9,
   "id": "da30cc78-069a-4d54-bc15-3fd0fab75225",
   "metadata": {},
   "outputs": [
    {
     "name": "stdout",
     "output_type": "stream",
     "text": [
      "Random_Number [10, 77, 44, 44, 60, 26, 57, 61, 25, 32]\n",
      "Even_Numbers from Random numbers : [10, 44, 44, 60, 26, 32]\n"
     ]
    }
   ],
   "source": [
    "# This Is Programmefor To Pic Randaom Numners and even Numbers\n",
    "\n",
    "import random as rd\n",
    "random_num = [rd.randint(1,100) for _ in range(10)]\n",
    "print(\"Random_Number\",random_num)\n",
    "\n",
    "even_num = [num for num in random_num if num % 2 == 0]\n",
    "print(\"Even_Numbers from Random numbers :\",even_num)\n"
   ]
  },
  {
   "cell_type": "code",
   "execution_count": null,
   "id": "ff4da522-7058-4a05-9e80-a324088b7fdc",
   "metadata": {},
   "outputs": [],
   "source": []
  }
 ],
 "metadata": {
  "kernelspec": {
   "display_name": "Python 3 (ipykernel)",
   "language": "python",
   "name": "python3"
  },
  "language_info": {
   "codemirror_mode": {
    "name": "ipython",
    "version": 3
   },
   "file_extension": ".py",
   "mimetype": "text/x-python",
   "name": "python",
   "nbconvert_exporter": "python",
   "pygments_lexer": "ipython3",
   "version": "3.12.7"
  }
 },
 "nbformat": 4,
 "nbformat_minor": 5
}
