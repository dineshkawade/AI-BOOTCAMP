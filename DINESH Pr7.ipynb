{
 "cells": [
  {
   "cell_type": "markdown",
   "id": "d465ba93-1427-49b6-b365-7f5b2d3bff9b",
   "metadata": {},
   "source": [
    "#### Write a Python program using OpenCV functions to \n",
    "1. read an image from a file and display it using OpenCV.\n",
    "2. Find the shape (dimensions) of the image. \n",
    "3. Resize the image to dimensions of 400x256 pixels.\n",
    "4. Display the resized image.\n",
    "5. Flip the image horizontally and vertically "
   ]
  },
  {
   "cell_type": "code",
   "execution_count": 2,
   "id": "98df2b5b-ce19-4516-937c-0b99645f9f32",
   "metadata": {},
   "outputs": [],
   "source": [
    "\n",
    "import cv2\n",
    "import numpy as np\n",
    "import matplotlib.pyplot as plt\n"
   ]
  },
  {
   "cell_type": "code",
   "execution_count": 5,
   "id": "067fc8f1-d1d8-431d-b87d-b3be3082ecec",
   "metadata": {},
   "outputs": [
    {
     "name": "stdout",
     "output_type": "stream",
     "text": [
      "<class 'numpy.ndarray'>\n"
     ]
    }
   ],
   "source": [
    "img = cv2.imread(r\"Radhe.jpg\")\n",
    "print(type(img))"
   ]
  },
  {
   "cell_type": "code",
   "execution_count": 6,
   "id": "dc1b2594-2f5a-4e4a-8730-5287cd7cbf6a",
   "metadata": {},
   "outputs": [
    {
     "name": "stdout",
     "output_type": "stream",
     "text": [
      "(795, 735, 3)\n"
     ]
    }
   ],
   "source": [
    "cv2.imshow(\"bootcamp\",img)\n",
    "cv2.waitKey(0)\n",
    "cv2.destroyAllWindows()\n",
    "print(img.shape)"
   ]
  },
  {
   "cell_type": "code",
   "execution_count": 7,
   "id": "4214dea8-b39f-43c8-8a52-b6c12a9b1cc6",
   "metadata": {},
   "outputs": [
    {
     "name": "stdout",
     "output_type": "stream",
     "text": [
      "(300, 203, 3)\n"
     ]
    }
   ],
   "source": [
    "img_resize = cv2.resize(img,(203,300))\n",
    "cv2.imshow(\"manya\",img_resize)\n",
    "cv2.waitKey(0)\n",
    "cv2.destroyAllWindows()\n",
    "print(img_resize.shape)"
   ]
  },
  {
   "cell_type": "code",
   "execution_count": 8,
   "id": "55c3dd40-0a0a-4258-9114-6945fff269f4",
   "metadata": {},
   "outputs": [],
   "source": [
    "img_flip = cv2.flip(img,1)\n",
    "cv2.imshow(\"flipped Image\",img_flip)\n",
    "cv2.waitKey(0)\n",
    "cv2.destroyAllWindows()"
   ]
  },
  {
   "cell_type": "code",
   "execution_count": 9,
   "id": "a409c03d-6af3-44da-80b5-e7d9e536f9f5",
   "metadata": {},
   "outputs": [],
   "source": [
    "img_crop = img[100:300,200:500]\n",
    "cv2.imshow(\"Cropped Image\",img_crop)\n",
    "cv2.waitKey(0)\n",
    "cv2.destroyAllWindows()"
   ]
  },
  {
   "cell_type": "code",
   "execution_count": 10,
   "id": "5f5df9d6-75ab-4014-8e2a-b62696dbb75c",
   "metadata": {},
   "outputs": [
    {
     "data": {
      "text/plain": [
       "True"
      ]
     },
     "execution_count": 10,
     "metadata": {},
     "output_type": "execute_result"
    }
   ],
   "source": [
    "cv2.imwrite(r\"croppedImg16.jpg\",img_crop)"
   ]
  },
  {
   "cell_type": "code",
   "execution_count": null,
   "id": "f9f13f2f-24a2-474b-8576-42f3d3586cde",
   "metadata": {},
   "outputs": [],
   "source": []
  }
 ],
 "metadata": {
  "kernelspec": {
   "display_name": "Python 3 (ipykernel)",
   "language": "python",
   "name": "python3"
  },
  "language_info": {
   "codemirror_mode": {
    "name": "ipython",
    "version": 3
   },
   "file_extension": ".py",
   "mimetype": "text/x-python",
   "name": "python",
   "nbconvert_exporter": "python",
   "pygments_lexer": "ipython3",
   "version": "3.12.7"
  }
 },
 "nbformat": 4,
 "nbformat_minor": 5
}
