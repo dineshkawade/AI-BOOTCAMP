{
 "cells": [
  {
   "cell_type": "code",
   "execution_count": 1,
   "id": "588ab93d-06b4-4efd-8630-e3e6ff55f8e9",
   "metadata": {},
   "outputs": [
    {
     "name": "stdout",
     "output_type": "stream",
     "text": [
      "Requirement already satisfied: opencv-python in c:\\users\\niraj dagade\\anaconda3\\lib\\site-packages (4.11.0.86)\n",
      "Requirement already satisfied: numpy>=1.21.2 in c:\\users\\niraj dagade\\anaconda3\\lib\\site-packages (from opencv-python) (1.26.4)\n",
      "Note: you may need to restart the kernel to use updated packages.\n"
     ]
    }
   ],
   "source": [
    "pip install opencv-python"
   ]
  },
  {
   "cell_type": "code",
   "execution_count": 3,
   "id": "19731e77-d46f-4dbe-a250-377c3f11ac18",
   "metadata": {},
   "outputs": [],
   "source": [
    "import numpy as np\n",
    "import matplotlib.pyplot as plt\n",
    "import pandas as pd\n",
    "import cv2"
   ]
  },
  {
   "cell_type": "code",
   "execution_count": 4,
   "id": "2e21875e-41b3-4e3d-b298-60e6c0b8950c",
   "metadata": {},
   "outputs": [],
   "source": [
    "img = cv2.imread(r\"Radhe.jpg\")"
   ]
  },
  {
   "cell_type": "code",
   "execution_count": 5,
   "id": "1e494d88-71ad-401c-a3b9-2144cfcb3e47",
   "metadata": {},
   "outputs": [
    {
     "data": {
      "text/plain": [
       "array([[[ 77, 101,  83],\n",
       "        [ 77, 101,  83],\n",
       "        [ 78, 102,  84],\n",
       "        ...,\n",
       "        [ 76, 101,  87],\n",
       "        [ 76, 101,  87],\n",
       "        [ 76, 101,  87]],\n",
       "\n",
       "       [[ 77, 101,  83],\n",
       "        [ 77, 101,  83],\n",
       "        [ 78, 102,  84],\n",
       "        ...,\n",
       "        [ 76, 101,  87],\n",
       "        [ 76, 101,  87],\n",
       "        [ 76, 101,  87]],\n",
       "\n",
       "       [[ 77, 101,  83],\n",
       "        [ 78, 102,  84],\n",
       "        [ 78, 102,  84],\n",
       "        ...,\n",
       "        [ 76, 101,  87],\n",
       "        [ 76, 101,  87],\n",
       "        [ 76, 101,  87]],\n",
       "\n",
       "       ...,\n",
       "\n",
       "       [[ 33,  78, 139],\n",
       "        [ 33,  78, 139],\n",
       "        [ 34,  78, 141],\n",
       "        ...,\n",
       "        [  7,  13,  24],\n",
       "        [  7,  13,  24],\n",
       "        [  7,  13,  24]],\n",
       "\n",
       "       [[ 33,  78, 139],\n",
       "        [ 33,  78, 139],\n",
       "        [ 34,  78, 141],\n",
       "        ...,\n",
       "        [  7,  13,  24],\n",
       "        [  7,  13,  24],\n",
       "        [  7,  13,  24]],\n",
       "\n",
       "       [[ 33,  78, 139],\n",
       "        [ 33,  78, 139],\n",
       "        [ 34,  78, 141],\n",
       "        ...,\n",
       "        [  7,  13,  24],\n",
       "        [  7,  13,  24],\n",
       "        [  7,  13,  24]]], dtype=uint8)"
      ]
     },
     "execution_count": 5,
     "metadata": {},
     "output_type": "execute_result"
    }
   ],
   "source": [
    "img"
   ]
  },
  {
   "cell_type": "code",
   "execution_count": 6,
   "id": "e9baaa44-05f9-4ffe-ac90-0e0cc9df4bd5",
   "metadata": {},
   "outputs": [
    {
     "name": "stdout",
     "output_type": "stream",
     "text": [
      "<class 'numpy.ndarray'>\n"
     ]
    }
   ],
   "source": [
    "print(type(img))"
   ]
  },
  {
   "cell_type": "code",
   "execution_count": 7,
   "id": "caabfce5-2798-4345-8de8-e603d74fc8a8",
   "metadata": {},
   "outputs": [],
   "source": [
    "cv2.imshow(\"Radhe1.jpg\",img)\n",
    "cv2.waitKey(0)\n",
    "cv2.destroyAllWindows()"
   ]
  },
  {
   "cell_type": "code",
   "execution_count": 16,
   "id": "496f8d4f-5a4d-4e2c-911b-4da56a69b8e6",
   "metadata": {},
   "outputs": [
    {
     "name": "stdout",
     "output_type": "stream",
     "text": [
      "(795, 735, 3)\n"
     ]
    }
   ],
   "source": [
    "print(img.shape)"
   ]
  },
  {
   "cell_type": "code",
   "execution_count": 8,
   "id": "5ee8e73f-01de-4f3d-b872-d0c0cf47b8d0",
   "metadata": {},
   "outputs": [],
   "source": [
    "img_resize = cv2.resize(img,(203,300))    "
   ]
  },
  {
   "cell_type": "code",
   "execution_count": 9,
   "id": "6de50dcd-6356-4fa9-93d3-344fdff87094",
   "metadata": {},
   "outputs": [
    {
     "data": {
      "text/plain": [
       "array([[[ 77, 101,  83],\n",
       "        [ 79, 103,  85],\n",
       "        [ 79, 103,  85],\n",
       "        ...,\n",
       "        [ 77, 102,  88],\n",
       "        [ 77, 102,  88],\n",
       "        [ 76, 101,  87]],\n",
       "\n",
       "       [[ 78, 102,  84],\n",
       "        [ 80, 103,  85],\n",
       "        [ 80, 104,  86],\n",
       "        ...,\n",
       "        [ 77, 102,  88],\n",
       "        [ 77, 102,  88],\n",
       "        [ 76, 101,  87]],\n",
       "\n",
       "       [[ 79, 103,  85],\n",
       "        [ 81, 105,  87],\n",
       "        [ 81, 105,  87],\n",
       "        ...,\n",
       "        [ 77, 102,  88],\n",
       "        [ 77, 102,  88],\n",
       "        [ 76, 101,  87]],\n",
       "\n",
       "       ...,\n",
       "\n",
       "       [[ 36,  81, 142],\n",
       "        [ 38,  81, 148],\n",
       "        [ 38,  80, 151],\n",
       "        ...,\n",
       "        [  7,  13,  24],\n",
       "        [  7,  13,  24],\n",
       "        [  7,  13,  24]],\n",
       "\n",
       "       [[ 36,  81, 142],\n",
       "        [ 38,  81, 148],\n",
       "        [ 38,  80, 151],\n",
       "        ...,\n",
       "        [  7,  13,  24],\n",
       "        [  7,  13,  24],\n",
       "        [  7,  13,  24]],\n",
       "\n",
       "       [[ 33,  78, 139],\n",
       "        [ 37,  80, 147],\n",
       "        [ 37,  79, 150],\n",
       "        ...,\n",
       "        [  7,  13,  24],\n",
       "        [  7,  13,  24],\n",
       "        [  7,  13,  24]]], dtype=uint8)"
      ]
     },
     "execution_count": 9,
     "metadata": {},
     "output_type": "execute_result"
    }
   ],
   "source": [
    "img_resize "
   ]
  },
  {
   "cell_type": "code",
   "execution_count": 10,
   "id": "bef556e1-e335-40a3-95af-2e4fae763f42",
   "metadata": {},
   "outputs": [],
   "source": [
    "cv2.imshow(\"Radhe2.jpg\",img)\n",
    "cv2.waitKey(0)\n",
    "cv2.destroyAllWindows()"
   ]
  },
  {
   "cell_type": "code",
   "execution_count": 20,
   "id": "8aad0442-ac63-484e-a18a-e7e253a63c56",
   "metadata": {},
   "outputs": [
    {
     "name": "stdout",
     "output_type": "stream",
     "text": [
      "(300, 203, 3)\n"
     ]
    }
   ],
   "source": [
    "print(img_resize.shape)"
   ]
  },
  {
   "cell_type": "code",
   "execution_count": 11,
   "id": "39ccea26-ef87-4d57-9b95-7e9978747c8f",
   "metadata": {},
   "outputs": [],
   "source": [
    "img_flip = cv2.flip(img,1)"
   ]
  },
  {
   "cell_type": "code",
   "execution_count": 12,
   "id": "a8dc81d4-c580-41f0-9617-1ecdd537a3e3",
   "metadata": {},
   "outputs": [],
   "source": [
    "cv2.imshow(\"flipped Image\",img_flip)\n",
    "cv2.waitKey(0)\n",
    "cv2.destroyAllWindows()"
   ]
  },
  {
   "cell_type": "code",
   "execution_count": 14,
   "id": "e9735efa-d182-4c20-9f65-f547280fab0c",
   "metadata": {},
   "outputs": [],
   "source": [
    "img_crop = img[100:300,200:500]"
   ]
  },
  {
   "cell_type": "code",
   "execution_count": 15,
   "id": "10df8db8-7d6e-441b-8abd-67a047e2ca8f",
   "metadata": {},
   "outputs": [],
   "source": [
    "cv2.imshow(\"Cropped Image\",img_crop)\n",
    "cv2.waitKey(0)\n",
    "cv2.destroyAllWindows()"
   ]
  },
  {
   "cell_type": "code",
   "execution_count": 16,
   "id": "8c96c212-30a0-4e6f-9360-bb3f8370ec04",
   "metadata": {},
   "outputs": [
    {
     "data": {
      "text/plain": [
       "True"
      ]
     },
     "execution_count": 16,
     "metadata": {},
     "output_type": "execute_result"
    }
   ],
   "source": [
    "cv2.imwrite(r\"croppedImg16.jpg\",img_crop)"
   ]
  },
  {
   "cell_type": "code",
   "execution_count": null,
   "id": "5d52ee3c-ed4b-4c9f-9e62-bd48ee25c67b",
   "metadata": {},
   "outputs": [],
   "source": []
  }
 ],
 "metadata": {
  "kernelspec": {
   "display_name": "Python 3 (ipykernel)",
   "language": "python",
   "name": "python3"
  },
  "language_info": {
   "codemirror_mode": {
    "name": "ipython",
    "version": 3
   },
   "file_extension": ".py",
   "mimetype": "text/x-python",
   "name": "python",
   "nbconvert_exporter": "python",
   "pygments_lexer": "ipython3",
   "version": "3.12.7"
  }
 },
 "nbformat": 4,
 "nbformat_minor": 5
}
