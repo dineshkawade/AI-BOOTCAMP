{
 "cells": [
  {
   "cell_type": "code",
   "execution_count": 1,
   "id": "b8c8d5b2-87b9-406c-9c7e-b92e5ae6a195",
   "metadata": {},
   "outputs": [
    {
     "name": "stdout",
     "output_type": "stream",
     "text": [
      "Requirement already satisfied: nltk in c:\\users\\niraj dagade\\anaconda3\\lib\\site-packages (3.9.1)\n",
      "Requirement already satisfied: click in c:\\users\\niraj dagade\\anaconda3\\lib\\site-packages (from nltk) (8.1.7)\n",
      "Requirement already satisfied: joblib in c:\\users\\niraj dagade\\anaconda3\\lib\\site-packages (from nltk) (1.4.2)\n",
      "Requirement already satisfied: regex>=2021.8.3 in c:\\users\\niraj dagade\\anaconda3\\lib\\site-packages (from nltk) (2024.9.11)\n",
      "Requirement already satisfied: tqdm in c:\\users\\niraj dagade\\anaconda3\\lib\\site-packages (from nltk) (4.66.5)\n",
      "Requirement already satisfied: colorama in c:\\users\\niraj dagade\\anaconda3\\lib\\site-packages (from click->nltk) (0.4.6)\n",
      "Note: you may need to restart the kernel to use updated packages.\n"
     ]
    }
   ],
   "source": [
    "pip install nltk"
   ]
  },
  {
   "cell_type": "code",
   "execution_count": 2,
   "id": "e6c972c6-0001-4869-bd4b-1e1f9e6bdfc6",
   "metadata": {},
   "outputs": [],
   "source": [
    "import nltk"
   ]
  },
  {
   "cell_type": "code",
   "execution_count": 7,
   "id": "3bf5939b-0e26-4a68-af2c-db0828f1e8c8",
   "metadata": {},
   "outputs": [],
   "source": [
    "import nltk\n",
    "from nltk.tokenize import sent_tokenize, word_tokenize\n",
    "from nltk.corpus import stopwords\n",
    "from nltk.stem import PorterStemmer\n",
    "from nltk.stem import WordNetLemmatizer\n",
    "from nltk import pos_tag\n",
    "\n"
   ]
  },
  {
   "cell_type": "code",
   "execution_count": 9,
   "id": "214a974d-7be2-473f-9c78-8ecbc487334c",
   "metadata": {},
   "outputs": [
    {
     "name": "stderr",
     "output_type": "stream",
     "text": [
      "[nltk_data] Downloading package punkt to C:\\Users\\Niraj\n",
      "[nltk_data]     Dagade\\AppData\\Roaming\\nltk_data...\n",
      "[nltk_data]   Package punkt is already up-to-date!\n",
      "[nltk_data] Downloading package stopwords to C:\\Users\\Niraj\n",
      "[nltk_data]     Dagade\\AppData\\Roaming\\nltk_data...\n",
      "[nltk_data]   Package stopwords is already up-to-date!\n",
      "[nltk_data] Downloading package wordnet to C:\\Users\\Niraj\n",
      "[nltk_data]     Dagade\\AppData\\Roaming\\nltk_data...\n",
      "[nltk_data]   Package wordnet is already up-to-date!\n",
      "[nltk_data] Downloading package averaged_perceptron_tagger to\n",
      "[nltk_data]     C:\\Users\\Niraj Dagade\\AppData\\Roaming\\nltk_data...\n",
      "[nltk_data]   Package averaged_perceptron_tagger is already up-to-\n",
      "[nltk_data]       date!\n",
      "[nltk_data] Downloading package punkt_tab to C:\\Users\\Niraj\n",
      "[nltk_data]     Dagade\\AppData\\Roaming\\nltk_data...\n",
      "[nltk_data]   Package punkt_tab is already up-to-date!\n",
      "[nltk_data] Downloading package averaged_perceptron_tagger_eng to\n",
      "[nltk_data]     C:\\Users\\Niraj Dagade\\AppData\\Roaming\\nltk_data...\n",
      "[nltk_data]   Package averaged_perceptron_tagger_eng is already up-to-\n",
      "[nltk_data]       date!\n"
     ]
    },
    {
     "data": {
      "text/plain": [
       "True"
      ]
     },
     "execution_count": 9,
     "metadata": {},
     "output_type": "execute_result"
    }
   ],
   "source": [
    "# Ensure you have the required NLTK data packages\n",
    "nltk.download('punkt')\n",
    "nltk.download('stopwords')\n",
    "nltk.download('wordnet')\n",
    "nltk.download('averaged_perceptron_tagger')\n",
    "nltk.download('punkt_tab')\n",
    "nltk.download('averaged_perceptron_tagger_eng')"
   ]
  },
  {
   "cell_type": "code",
   "execution_count": 26,
   "id": "75996979-466c-4993-8fdc-7557a7850285",
   "metadata": {},
   "outputs": [
    {
     "data": {
      "text/plain": [
       "'Data science is an interdisciplinary field that combines statistics, programming, and domain knowledge to extract meaningful insights from data. Python is one of the most popular programming languages used in data science due to its rich ecosystem of libraries like NumPy, Pandas, and scikit-learn. Machine learning, a subset of artificial intelligence, enables systems to learn patterns and make predictions without being explicitly programmed. With the rise of big data, businesses are leveraging data analytics to improve decision-making and enhance customer experiences.'"
      ]
     },
     "execution_count": 26,
     "metadata": {},
     "output_type": "execute_result"
    }
   ],
   "source": [
    "ph = \"\"\"Data science is an interdisciplinary field that combines statistics, programming, and domain knowledge to extract meaningful insights from data. Python is one of the most popular programming languages used in data science due to its rich ecosystem of libraries like NumPy, Pandas, and scikit-learn. Machine learning, a subset of artificial intelligence, enables systems to learn patterns and make predictions without being explicitly programmed. With the rise of big data, businesses are leveraging data analytics to improve decision-making and enhance customer experiences.\"\"\"\n",
    "ph"
   ]
  },
  {
   "cell_type": "code",
   "execution_count": 27,
   "id": "07f57109-0fcc-41ad-bbf2-6b52fab7c95f",
   "metadata": {},
   "outputs": [
    {
     "name": "stdout",
     "output_type": "stream",
     "text": [
      "Sentences: ['Data science is an interdisciplinary field that combines statistics, programming, and domain knowledge to extract meaningful insights from data.', 'Python is one of the most popular programming languages used in data science due to its rich ecosystem of libraries like NumPy, Pandas, and scikit-learn.', 'Machine learning, a subset of artificial intelligence, enables systems to learn patterns and make predictions without being explicitly programmed.', 'With the rise of big data, businesses are leveraging data analytics to improve decision-making and enhance customer experiences.']\n"
     ]
    }
   ],
   "source": [
    "# 1. Break the text into sentences and words\n",
    "sentences = sent_tokenize(ph)\n",
    "print(\"Sentences:\", sentences)"
   ]
  },
  {
   "cell_type": "code",
   "execution_count": 28,
   "id": "31754fc0-fb32-4ed1-883c-323e99c2783f",
   "metadata": {},
   "outputs": [
    {
     "name": "stdout",
     "output_type": "stream",
     "text": [
      "Words: ['Data', 'science', 'is', 'an', 'interdisciplinary', 'field', 'that', 'combines', 'statistics', ',', 'programming', ',', 'and', 'domain', 'knowledge', 'to', 'extract', 'meaningful', 'insights', 'from', 'data', '.', 'Python', 'is', 'one', 'of', 'the', 'most', 'popular', 'programming', 'languages', 'used', 'in', 'data', 'science', 'due', 'to', 'its', 'rich', 'ecosystem', 'of', 'libraries', 'like', 'NumPy', ',', 'Pandas', ',', 'and', 'scikit-learn', '.', 'Machine', 'learning', ',', 'a', 'subset', 'of', 'artificial', 'intelligence', ',', 'enables', 'systems', 'to', 'learn', 'patterns', 'and', 'make', 'predictions', 'without', 'being', 'explicitly', 'programmed', '.', 'With', 'the', 'rise', 'of', 'big', 'data', ',', 'businesses', 'are', 'leveraging', 'data', 'analytics', 'to', 'improve', 'decision-making', 'and', 'enhance', 'customer', 'experiences', '.']\n"
     ]
    }
   ],
   "source": [
    "words = word_tokenize(ph)\n",
    "print(\"Words:\", words)"
   ]
  },
  {
   "cell_type": "code",
   "execution_count": 29,
   "id": "a44c2878-debf-4bbe-b15a-e950e1ce162f",
   "metadata": {},
   "outputs": [],
   "source": [
    "# 2. Remove common words (stop words)\n",
    "stop_words = set(stopwords.words('english'))\n",
    "filtered_words = [word for word in words if word.isalpha() and word not in stop_words]"
   ]
  },
  {
   "cell_type": "code",
   "execution_count": 30,
   "id": "756edf79-b3ff-4274-92d8-310cc21545f0",
   "metadata": {},
   "outputs": [
    {
     "name": "stdout",
     "output_type": "stream",
     "text": [
      "Filtered Words: ['Data', 'science', 'interdisciplinary', 'field', 'combines', 'statistics', 'programming', 'domain', 'knowledge', 'extract', 'meaningful', 'insights', 'data', 'Python', 'one', 'popular', 'programming', 'languages', 'used', 'data', 'science', 'due', 'rich', 'ecosystem', 'libraries', 'like', 'NumPy', 'Pandas', 'Machine', 'learning', 'subset', 'artificial', 'intelligence', 'enables', 'systems', 'learn', 'patterns', 'make', 'predictions', 'without', 'explicitly', 'programmed', 'With', 'rise', 'big', 'data', 'businesses', 'leveraging', 'data', 'analytics', 'improve', 'enhance', 'customer', 'experiences']\n"
     ]
    }
   ],
   "source": [
    "# The general syntax for a list comprehension is: [expression for item in iterable if condition]\n",
    "print(\"Filtered Words:\", filtered_words)"
   ]
  },
  {
   "cell_type": "code",
   "execution_count": 31,
   "id": "939358fa-cd5c-410d-b45d-701da10f68bc",
   "metadata": {},
   "outputs": [
    {
     "name": "stdout",
     "output_type": "stream",
     "text": [
      "Stemmed Words: ['data', 'scienc', 'interdisciplinari', 'field', 'combin', 'statist', 'program', 'domain', 'knowledg', 'extract', 'meaning', 'insight', 'data', 'python', 'one', 'popular', 'program', 'languag', 'use', 'data', 'scienc', 'due', 'rich', 'ecosystem', 'librari', 'like', 'numpi', 'panda', 'machin', 'learn', 'subset', 'artifici', 'intellig', 'enabl', 'system', 'learn', 'pattern', 'make', 'predict', 'without', 'explicitli', 'program', 'with', 'rise', 'big', 'data', 'busi', 'leverag', 'data', 'analyt', 'improv', 'enhanc', 'custom', 'experi']\n"
     ]
    }
   ],
   "source": [
    "# 3. Reduce words to their base form using stemming\n",
    "stemmer = PorterStemmer()\n",
    "stemmed_words = [stemmer.stem(word) for word in filtered_words]\n",
    "\n",
    "print(\"Stemmed Words:\", stemmed_words)"
   ]
  },
  {
   "cell_type": "code",
   "execution_count": 32,
   "id": "9f1d0fa7-0ff8-4ab7-8b1e-45685a8b7a22",
   "metadata": {},
   "outputs": [
    {
     "name": "stdout",
     "output_type": "stream",
     "text": [
      "Lemmatized Words: ['Data', 'science', 'interdisciplinary', 'field', 'combine', 'statistic', 'programming', 'domain', 'knowledge', 'extract', 'meaningful', 'insight', 'data', 'Python', 'one', 'popular', 'programming', 'language', 'used', 'data', 'science', 'due', 'rich', 'ecosystem', 'library', 'like', 'NumPy', 'Pandas', 'Machine', 'learning', 'subset', 'artificial', 'intelligence', 'enables', 'system', 'learn', 'pattern', 'make', 'prediction', 'without', 'explicitly', 'programmed', 'With', 'rise', 'big', 'data', 'business', 'leveraging', 'data', 'analytics', 'improve', 'enhance', 'customer', 'experience']\n"
     ]
    }
   ],
   "source": [
    "# 4. Perform lemmatization\n",
    "lemmatizer = WordNetLemmatizer()\n",
    "lemmatized_words = [lemmatizer.lemmatize(word) for word in filtered_words]\n",
    "\n",
    "print(\"Lemmatized Words:\", lemmatized_words)"
   ]
  },
  {
   "cell_type": "code",
   "execution_count": null,
   "id": "d0d613ce-fea5-4c15-9ae3-0c87bd1520fb",
   "metadata": {},
   "outputs": [],
   "source": []
  }
 ],
 "metadata": {
  "kernelspec": {
   "display_name": "Python 3 (ipykernel)",
   "language": "python",
   "name": "python3"
  },
  "language_info": {
   "codemirror_mode": {
    "name": "ipython",
    "version": 3
   },
   "file_extension": ".py",
   "mimetype": "text/x-python",
   "name": "python",
   "nbconvert_exporter": "python",
   "pygments_lexer": "ipython3",
   "version": "3.12.7"
  }
 },
 "nbformat": 4,
 "nbformat_minor": 5
}
