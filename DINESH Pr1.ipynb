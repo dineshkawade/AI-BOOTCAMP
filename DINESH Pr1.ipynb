{
 "cells": [
  {
   "cell_type": "markdown",
   "id": "0c2b674d-7b24-4dc5-aa15-02f0b40d6708",
   "metadata": {},
   "source": [
    "#### Load the Student Performance dataset into a pandas DataFrame. This dataset is available in classroom.  Write code show the first few rows of the dataset."
   ]
  },
  {
   "cell_type": "code",
   "execution_count": 1,
   "id": "0a3ad7ee-914d-4df2-830b-4af4e24af44d",
   "metadata": {},
   "outputs": [],
   "source": [
    "import pandas as pd  "
   ]
  },
  {
   "cell_type": "code",
   "execution_count": 4,
   "id": "980cd94b-0137-48a6-9443-94f561b91419",
   "metadata": {},
   "outputs": [],
   "source": [
    "file = \"BootcampAI/Student_preference.csv\" "
   ]
  },
  {
   "cell_type": "code",
   "execution_count": 5,
   "id": "28ee57e7-9867-40ba-934b-053148b38b20",
   "metadata": {},
   "outputs": [],
   "source": [
    "df = pd.read_csv(file)   "
   ]
  },
  {
   "cell_type": "code",
   "execution_count": 6,
   "id": "6a2d4fa9-7eae-41f8-98cb-4d80ca3066bc",
   "metadata": {},
   "outputs": [
    {
     "name": "stdout",
     "output_type": "stream",
     "text": [
      "   StudentID  G1  G2  G3      Mjob     Fjob  age address  studytime  failures  \\\n",
      "0          1   6   2   2   teacher  at_home   21   rural          3         1   \n",
      "1          2  19  11  18    health  teacher   18   rural          1         1   \n",
      "2          3  14   7  19    health    other   20   urban          1         1   \n",
      "3          4  10   2   6  services   health   21   urban          3         1   \n",
      "4          5   7   0  19    health   health   18   rural          4         1   \n",
      "\n",
      "  schoolsup famsup paid activities nursery higher internet romantic  \n",
      "0        no    yes  yes        yes     yes    yes       no      yes  \n",
      "1        no     no   no         no     yes     no       no       no  \n",
      "2       yes    yes  yes         no      no     no      yes      yes  \n",
      "3       yes     no  yes         no     yes     no       no       no  \n",
      "4        no     no  yes         no     yes    yes      yes       no  \n"
     ]
    }
   ],
   "source": [
    "print(df.head())"
   ]
  },
  {
   "cell_type": "code",
   "execution_count": null,
   "id": "fe71e537-1d85-4f00-9832-b9c0f4554e92",
   "metadata": {},
   "outputs": [],
   "source": []
  }
 ],
 "metadata": {
  "kernelspec": {
   "display_name": "Python 3 (ipykernel)",
   "language": "python",
   "name": "python3"
  },
  "language_info": {
   "codemirror_mode": {
    "name": "ipython",
    "version": 3
   },
   "file_extension": ".py",
   "mimetype": "text/x-python",
   "name": "python",
   "nbconvert_exporter": "python",
   "pygments_lexer": "ipython3",
   "version": "3.12.7"
  }
 },
 "nbformat": 4,
 "nbformat_minor": 5
}
